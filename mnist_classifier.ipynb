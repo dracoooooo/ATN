{
 "cells": [
  {
   "cell_type": "code",
   "execution_count": 15,
   "metadata": {
    "id": "tVdYM66RBBFo"
   },
   "outputs": [],
   "source": [
    "import torch\n",
    "from torchvision import datasets\n",
    "from torchvision.transforms import ToTensor\n",
    "import matplotlib.pyplot as plt\n",
    "import torch.nn as nn\n",
    "from util import Net"
   ]
  },
  {
   "cell_type": "code",
   "execution_count": 16,
   "metadata": {
    "colab": {
     "base_uri": "https://localhost:8080/"
    },
    "id": "XuNMposXTvse",
    "outputId": "27fc02b0-20a5-4aec-e274-e0f21d39ee10"
   },
   "outputs": [
    {
     "name": "stdout",
     "output_type": "stream",
     "text": [
      "Using cuda device\n"
     ]
    }
   ],
   "source": [
    "device = 'cuda' if torch.cuda.is_available() else 'cpu'\n",
    "print('Using {} device'.format(device))"
   ]
  },
  {
   "cell_type": "code",
   "execution_count": 17,
   "metadata": {
    "colab": {
     "base_uri": "https://localhost:8080/",
     "height": 489,
     "referenced_widgets": [
      "4d29c0e4cedc43caaf0b42d6a9fca1cc",
      "71e304d259f74fb59c8ff358feb109dc",
      "6a8cdb029a0a434e819279c028f29156",
      "c4e6afa3cd344e7f81193ced43d0ff49",
      "219873ae6e774e4190bafbba5213c269",
      "fd0a099c69df409d9bce1cd229d6773c",
      "9a03f5ffac0a4572af9c6f21090eb178",
      "e8d708cf92eb4cf2a8d00e94fa6655f0",
      "df85f692c61648f786853b49d6b343a5",
      "c6b03e85a3e346739e84785fd881ceba",
      "0b0a0d6677994e9d96d1bf81a3ee75fe"
     ]
    },
    "id": "EXpQxjVkBgIR",
    "outputId": "f6c89ed4-cb91-4b96-80d6-93ab353df352"
   },
   "outputs": [],
   "source": [
    "data_train = datasets.MNIST(root = \"./data/\",\n",
    "                train = True,\n",
    "                transform = ToTensor(),\n",
    "                download = True)\n",
    "\n",
    "data_test = datasets.MNIST(root=\"./data/\",\n",
    "              transform = ToTensor(),\n",
    "              train = False,\n",
    "              download=True)  "
   ]
  },
  {
   "cell_type": "code",
   "execution_count": 18,
   "metadata": {
    "id": "Np_FQ0EhB5Wh"
   },
   "outputs": [],
   "source": [
    "data_loader_train = torch.utils.data.DataLoader(dataset=data_train,\n",
    "                        batch_size = 64,\n",
    "                        shuffle = True)\n",
    "\n",
    "data_loader_test = torch.utils.data.DataLoader(dataset=data_test,\n",
    "                        batch_size = 64,\n",
    "                        shuffle = True)"
   ]
  },
  {
   "cell_type": "code",
   "execution_count": 19,
   "metadata": {
    "colab": {
     "base_uri": "https://localhost:8080/",
     "height": 518
    },
    "id": "w9ZAG7yqF2R0",
    "outputId": "56e993f6-9d06-4d31-b341-4b548e63169a"
   },
   "outputs": [
    {
     "name": "stdout",
     "output_type": "stream",
     "text": [
      "Feature batch shape: torch.Size([64, 1, 28, 28])\n",
      "Labels batch shape: torch.Size([64])\n"
     ]
    },
    {
     "data": {
      "image/png": "[encoded data removed]",
      "text/plain": [
       "<Figure size 576x576 with 9 Axes>"
      ]
     },
     "metadata": {
      "needs_background": "light"
     },
     "output_type": "display_data"
    }
   ],
   "source": [
    "train_features, train_labels = next(iter(data_loader_train))\n",
    "print(f\"Feature batch shape: {train_features.size()}\")\n",
    "print(f\"Labels batch shape: {train_labels.size()}\")\n",
    "\n",
    "figure = plt.figure(figsize=(8, 8))\n",
    "cols, rows = 3, 3\n",
    "for i in range(1, cols * rows + 1):\n",
    "    sample_idx = torch.randint(len(data_train), size=(1,)).item()\n",
    "    img, label = data_train[sample_idx]\n",
    "    figure.add_subplot(rows, cols, i)\n",
    "    plt.title(label)\n",
    "    plt.axis(\"off\")\n",
    "    plt.imshow(img.squeeze(), cmap=\"gray\")\n",
    "plt.show()"
   ]
  },
  {
   "cell_type": "code",
   "execution_count": 20,
   "metadata": {
    "id": "gkNCazHGGrYR"
   },
   "outputs": [],
   "source": [
    "model = Net().to(device)"
   ]
  },
  {
   "cell_type": "code",
   "execution_count": 21,
   "metadata": {
    "id": "Q2rldaq9UNJ8"
   },
   "outputs": [],
   "source": [
    "learning_rate = 1e-3\n",
    "loss_fn = nn.CrossEntropyLoss().to(device)\n",
    "optimizer = torch.optim.Adam(model.parameters(), lr=learning_rate)"
   ]
  },
  {
   "cell_type": "code",
   "execution_count": 22,
   "metadata": {
    "id": "F_thnMpJGXXy"
   },
   "outputs": [],
   "source": [
    "def train(dataloader, model, loss_fn, optimizer):\n",
    "    model.train()\n",
    "    size = len(dataloader.dataset)\n",
    "    correct = 0\n",
    "    for batch, (X, y) in enumerate(dataloader):\n",
    "        X, y = X.to(device), y.to(device)\n",
    "        pred = model(X)\n",
    "        optimizer.zero_grad()\n",
    "        loss = loss_fn(pred, y)\n",
    "        loss.backward()\n",
    "        optimizer.step()\n",
    "\n",
    "        correct += (pred.argmax(1) == y).type(torch.float).sum().item()\n",
    "\n",
    "        if batch % 100 == 0:\n",
    "            loss, current = loss.item() / len(X), batch * len(X)\n",
    "            print(f\"loss: {loss:>7f}  [{current:>5d}/{size:>5d}]\")\n",
    "\n",
    "    correct /= size\n",
    "    print(f\"train Accuracy: {(100*correct):>0.1f}%\\n\")\n",
    "\n",
    "def test(dataloader, model, loss_fn):\n",
    "    size = len(dataloader.dataset)\n",
    "    model.eval()\n",
    "    test_loss, correct = 0, 0\n",
    "    with torch.no_grad():\n",
    "        for X, y in dataloader:\n",
    "            X, y = X.to(device), y.to(device)\n",
    "            pred = model(X)\n",
    "            test_loss += loss_fn(pred, y).item()\n",
    "            correct += (pred.argmax(1) == y).type(torch.float).sum().item()\n",
    "    test_loss /= size\n",
    "    correct /= size\n",
    "    print(f\"Test Error: \\n Accuracy: {(100*correct):>0.1f}%, Avg loss: {test_loss:>8f} \\n\")"
   ]
  },
  {
   "cell_type": "code",
   "execution_count": 23,
   "metadata": {
    "colab": {
     "base_uri": "https://localhost:8080/",
     "height": 1000
    },
    "id": "RYRKW9iDUFgs",
    "outputId": "a120dda1-57b9-40db-d450-362ddef65b9f"
   },
   "outputs": [
    {
     "name": "stdout",
     "output_type": "stream",
     "text": [
      "Epoch 1\n",
      "-------------------------------\n",
      "loss: 0.035989  [    0/60000]\n",
      "loss: 0.001112  [ 6400/60000]\n",
      "loss: 0.001849  [12800/60000]\n",
      "loss: 0.001002  [19200/60000]\n",
      "loss: 0.001662  [25600/60000]\n",
      "loss: 0.002955  [32000/60000]\n",
      "loss: 0.001407  [38400/60000]\n",
      "loss: 0.002417  [44800/60000]\n",
      "loss: 0.001493  [51200/60000]\n",
      "loss: 0.003152  [57600/60000]\n",
      "train Accuracy: 96.2%\n",
      "\n",
      "Test Error: \n",
      " Accuracy: 98.9%, Avg loss: 0.000620 \n",
      "\n",
      "Epoch 2\n",
      "-------------------------------\n",
      "loss: 0.000161  [    0/60000]\n",
      "loss: 0.000074  [ 6400/60000]\n",
      "loss: 0.000195  [12800/60000]\n",
      "loss: 0.002547  [19200/60000]\n",
      "loss: 0.000649  [25600/60000]\n",
      "loss: 0.000026  [32000/60000]\n",
      "loss: 0.000144  [38400/60000]\n",
      "loss: 0.001235  [44800/60000]\n",
      "loss: 0.000350  [51200/60000]\n",
      "loss: 0.000144  [57600/60000]\n",
      "train Accuracy: 98.9%\n",
      "\n",
      "Test Error: \n",
      " Accuracy: 99.0%, Avg loss: 0.000538 \n",
      "\n",
      "Epoch 3\n",
      "-------------------------------\n",
      "loss: 0.000706  [    0/60000]\n",
      "loss: 0.000016  [ 6400/60000]\n",
      "loss: 0.000014  [12800/60000]\n",
      "loss: 0.000148  [19200/60000]\n",
      "loss: 0.001496  [25600/60000]\n",
      "loss: 0.000949  [32000/60000]\n",
      "loss: 0.000085  [38400/60000]\n",
      "loss: 0.001031  [44800/60000]\n",
      "loss: 0.000018  [51200/60000]\n",
      "loss: 0.000017  [57600/60000]\n",
      "train Accuracy: 99.2%\n",
      "\n",
      "Test Error: \n",
      " Accuracy: 99.0%, Avg loss: 0.000525 \n",
      "\n",
      "Epoch 4\n",
      "-------------------------------\n",
      "loss: 0.000145  [    0/60000]\n",
      "loss: 0.000251  [ 6400/60000]\n",
      "loss: 0.000425  [12800/60000]\n",
      "loss: 0.000086  [19200/60000]\n",
      "loss: 0.000227  [25600/60000]\n",
      "loss: 0.000008  [32000/60000]\n",
      "loss: 0.000042  [38400/60000]\n",
      "loss: 0.000172  [44800/60000]\n",
      "loss: 0.000053  [51200/60000]\n",
      "loss: 0.001289  [57600/60000]\n",
      "train Accuracy: 99.4%\n",
      "\n",
      "Test Error: \n",
      " Accuracy: 99.0%, Avg loss: 0.000567 \n",
      "\n",
      "Epoch 5\n",
      "-------------------------------\n",
      "loss: 0.000141  [    0/60000]\n",
      "loss: 0.000012  [ 6400/60000]\n",
      "loss: 0.000037  [12800/60000]\n",
      "loss: 0.001761  [19200/60000]\n",
      "loss: 0.000024  [25600/60000]\n",
      "loss: 0.000017  [32000/60000]\n",
      "loss: 0.000003  [38400/60000]\n",
      "loss: 0.000024  [44800/60000]\n",
      "loss: 0.001139  [51200/60000]\n",
      "loss: 0.000019  [57600/60000]\n",
      "train Accuracy: 99.5%\n",
      "\n",
      "Test Error: \n",
      " Accuracy: 99.2%, Avg loss: 0.000439 \n",
      "\n",
      "Done!\n"
     ]
    }
   ],
   "source": [
    "epochs = 5\n",
    "for t in range(epochs):\n",
    "    print(f\"Epoch {t+1}\\n-------------------------------\")\n",
    "    train(data_loader_train, model, loss_fn, optimizer)\n",
    "    test(data_loader_test, model, loss_fn)\n",
    "print(\"Done!\")\n",
    "\n",
    "model_path = './model/mnist_classifier'\n",
    "torch.save(model, model_path)"
   ]
  },
  {
   "cell_type": "code",
   "execution_count": 24,
   "metadata": {
    "id": "Zx6XbvKgZ5Hu"
   },
   "outputs": [
    {
     "data": {
      "text/plain": [
       "Net(\n",
       "  (cnn): Sequential(\n",
       "    (0): Conv2d(1, 64, kernel_size=(5, 5), stride=(1, 1))\n",
       "    (1): ReLU()\n",
       "    (2): MaxPool2d(kernel_size=2, stride=2, padding=0, dilation=1, ceil_mode=False)\n",
       "    (3): Conv2d(64, 128, kernel_size=(5, 5), stride=(1, 1))\n",
       "    (4): ReLU()\n",
       "    (5): MaxPool2d(kernel_size=2, stride=2, padding=0, dilation=1, ceil_mode=False)\n",
       "  )\n",
       "  (fc): Sequential(\n",
       "    (0): Linear(in_features=2048, out_features=1024, bias=True)\n",
       "    (1): ReLU()\n",
       "    (2): Linear(in_features=1024, out_features=512, bias=True)\n",
       "    (3): ReLU()\n",
       "    (4): Linear(in_features=512, out_features=10, bias=True)\n",
       "  )\n",
       ")"
      ]
     },
     "execution_count": 24,
     "metadata": {},
     "output_type": "execute_result"
    }
   ],
   "source": [
    "model_path = './model/mnist_classifier'\n",
    "\n",
    "minist_classifier = torch.load(model_path)\n",
    "minist_classifier.eval()"
   ]
  },
  {
   "cell_type": "code",
   "execution_count": 25,
   "metadata": {},
   "outputs": [
    {
     "name": "stdout",
     "output_type": "stream",
     "text": [
      "predict: 7 label: 7\n",
      "predict: 9 label: 9\n",
      "predict: 7 label: 7\n",
      "predict: 9 label: 9\n",
      "predict: 5 label: 5\n",
      "predict: 7 label: 7\n",
      "predict: 7 label: 7\n",
      "predict: 5 label: 5\n",
      "predict: 7 label: 7\n"
     ]
    },
    {
     "data": {
      "image/png": "[encoded data removed]",
      "text/plain": [
       "<Figure size 576x576 with 9 Axes>"
      ]
     },
     "metadata": {
      "needs_background": "light"
     },
     "output_type": "display_data"
    }
   ],
   "source": [
    "figure = plt.figure(figsize=(8, 8))\n",
    "cols, rows = 3, 3\n",
    "for i in range(1, cols * rows + 1):\n",
    "    sample_idx = torch.randint(len(data_train), size=(1,)).item()\n",
    "    img, label = data_train[sample_idx]\n",
    "    figure.add_subplot(rows, cols, i)\n",
    "    plt.title(label)\n",
    "    pred =  minist_classifier(img.unsqueeze(0).to(device))\n",
    "    print('predict:', torch.argmax(pred).item(), 'label:', label)\n",
    "    plt.axis(\"off\")\n",
    "    plt.imshow(img.squeeze(), cmap=\"gray\")\n",
    "plt.show()"
   ]
  }
 ],
 "metadata": {
  "accelerator": "GPU",
  "colab": {
   "collapsed_sections": [],
   "name": "Untitled5.ipynb",
   "provenance": []
  },
  "interpreter": {
   "hash": "d94dab1fa283b1010c2c7b30efe073d7d33c17c6ce2041335b519e70fc66e8ef"
  },
  "kernelspec": {
   "display_name": "Python 3.8.5 64-bit ('base': conda)",
   "name": "python3"
  },
  "language_info": {
   "codemirror_mode": {
    "name": "ipython",
    "version": 3
   },
   "file_extension": ".py",
   "mimetype": "text/x-python",
   "name": "python",
   "nbconvert_exporter": "python",
   "pygments_lexer": "ipython3",
   "version": "3.8.5"
  },
  "widgets": {
   "application/vnd.jupyter.widget-state+json": {
    "0b0a0d6677994e9d96d1bf81a3ee75fe": {
     "model_module": "@jupyter-widgets/base",
     "model_module_version": "1.2.0",
     "model_name": "LayoutModel",
     "state": {
      "_model_module": "@jupyter-widgets/base",
      "_model_module_version": "1.2.0",
      "_model_name": "LayoutModel",
      "_view_count": null,
      "_view_module": "@jupyter-widgets/base",
      "_view_module_version": "1.2.0",
      "_view_name": "LayoutView",
      "align_content": null,
      "align_items": null,
      "align_self": null,
      "border": null,
      "bottom": null,
      "display": null,
      "flex": null,
      "flex_flow": null,
      "grid_area": null,
      "grid_auto_columns": null,
      "grid_auto_flow": null,
      "grid_auto_rows": null,
      "grid_column": null,
      "grid_gap": null,
      "grid_row": null,
      "grid_template_areas": null,
      "grid_template_columns": null,
      "grid_template_rows": null,
      "height": null,
      "justify_content": null,
      "justify_items": null,
      "left": null,
      "margin": null,
      "max_height": null,
      "max_width": null,
      "min_height": null,
      "min_width": null,
      "object_fit": null,
      "object_position": null,
      "order": null,
      "overflow": null,
      "overflow_x": null,
      "overflow_y": null,
      "padding": null,
      "right": null,
      "top": null,
      "visibility": null,
      "width": null
     }
    },
    "219873ae6e774e4190bafbba5213c269": {
     "model_module": "@jupyter-widgets/controls",
     "model_module_version": "1.5.0",
     "model_name": "HTMLModel",
     "state": {
      "_dom_classes": [],
      "_model_module": "@jupyter-widgets/controls",
      "_model_module_version": "1.5.0",
      "_model_name": "HTMLModel",
      "_view_count": null,
      "_view_module": "@jupyter-widgets/controls",
      "_view_module_version": "1.5.0",
      "_view_name": "HTMLView",
      "description": "",
      "description_tooltip": null,
      "layout": "IPY_MODEL_0b0a0d6677994e9d96d1bf81a3ee75fe",
      "placeholder": "​",
      "style": "IPY_MODEL_c6b03e85a3e346739e84785fd881ceba",
      "value": " 9913344/? [00:00&lt;00:00, 39302404.53it/s]"
     }
    },
    "4d29c0e4cedc43caaf0b42d6a9fca1cc": {
     "model_module": "@jupyter-widgets/controls",
     "model_module_version": "1.5.0",
     "model_name": "HBoxModel",
     "state": {
      "_dom_classes": [],
      "_model_module": "@jupyter-widgets/controls",
      "_model_module_version": "1.5.0",
      "_model_name": "HBoxModel",
      "_view_count": null,
      "_view_module": "@jupyter-widgets/controls",
      "_view_module_version": "1.5.0",
      "_view_name": "HBoxView",
      "box_style": "",
      "children": [
       "IPY_MODEL_6a8cdb029a0a434e819279c028f29156",
       "IPY_MODEL_c4e6afa3cd344e7f81193ced43d0ff49",
       "IPY_MODEL_219873ae6e774e4190bafbba5213c269"
      ],
      "layout": "IPY_MODEL_71e304d259f74fb59c8ff358feb109dc"
     }
    },
    "6a8cdb029a0a434e819279c028f29156": {
     "model_module": "@jupyter-widgets/controls",
     "model_module_version": "1.5.0",
     "model_name": "HTMLModel",
     "state": {
      "_dom_classes": [],
      "_model_module": "@jupyter-widgets/controls",
      "_model_module_version": "1.5.0",
      "_model_name": "HTMLModel",
      "_view_count": null,
      "_view_module": "@jupyter-widgets/controls",
      "_view_module_version": "1.5.0",
      "_view_name": "HTMLView",
      "description": "",
      "description_tooltip": null,
      "layout": "IPY_MODEL_9a03f5ffac0a4572af9c6f21090eb178",
      "placeholder": "​",
      "style": "IPY_MODEL_fd0a099c69df409d9bce1cd229d6773c",
      "value": ""
     }
    },
    "71e304d259f74fb59c8ff358feb109dc": {
     "model_module": "@jupyter-widgets/base",
     "model_module_version": "1.2.0",
     "model_name": "LayoutModel",
     "state": {
      "_model_module": "@jupyter-widgets/base",
      "_model_module_version": "1.2.0",
      "_model_name": "LayoutModel",
      "_view_count": null,
      "_view_module": "@jupyter-widgets/base",
      "_view_module_version": "1.2.0",
      "_view_name": "LayoutView",
      "align_content": null,
      "align_items": null,
      "align_self": null,
      "border": null,
      "bottom": null,
      "display": null,
      "flex": null,
      "flex_flow": null,
      "grid_area": null,
      "grid_auto_columns": null,
      "grid_auto_flow": null,
      "grid_auto_rows": null,
      "grid_column": null,
      "grid_gap": null,
      "grid_row": null,
      "grid_template_areas": null,
      "grid_template_columns": null,
      "grid_template_rows": null,
      "height": null,
      "justify_content": null,
      "justify_items": null,
      "left": null,
      "margin": null,
      "max_height": null,
      "max_width": null,
      "min_height": null,
      "min_width": null,
      "object_fit": null,
      "object_position": null,
      "order": null,
      "overflow": null,
      "overflow_x": null,
      "overflow_y": null,
      "padding": null,
      "right": null,
      "top": null,
      "visibility": null,
      "width": null
     }
    },
    "9a03f5ffac0a4572af9c6f21090eb178": {
     "model_module": "@jupyter-widgets/base",
     "model_module_version": "1.2.0",
     "model_name": "LayoutModel",
     "state": {
      "_model_module": "@jupyter-widgets/base",
      "_model_module_version": "1.2.0",
      "_model_name": "LayoutModel",
      "_view_count": null,
      "_view_module": "@jupyter-widgets/base",
      "_view_module_version": "1.2.0",
      "_view_name": "LayoutView",
      "align_content": null,
      "align_items": null,
      "align_self": null,
      "border": null,
      "bottom": null,
      "display": null,
      "flex": null,
      "flex_flow": null,
      "grid_area": null,
      "grid_auto_columns": null,
      "grid_auto_flow": null,
      "grid_auto_rows": null,
      "grid_column": null,
      "grid_gap": null,
      "grid_row": null,
      "grid_template_areas": null,
      "grid_template_columns": null,
      "grid_template_rows": null,
      "height": null,
      "justify_content": null,
      "justify_items": null,
      "left": null,
      "margin": null,
      "max_height": null,
      "max_width": null,
      "min_height": null,
      "min_width": null,
      "object_fit": null,
      "object_position": null,
      "order": null,
      "overflow": null,
      "overflow_x": null,
      "overflow_y": null,
      "padding": null,
      "right": null,
      "top": null,
      "visibility": null,
      "width": null
     }
    },
    "c4e6afa3cd344e7f81193ced43d0ff49": {
     "model_module": "@jupyter-widgets/controls",
     "model_module_version": "1.5.0",
     "model_name": "FloatProgressModel",
     "state": {
      "_dom_classes": [],
      "_model_module": "@jupyter-widgets/controls",
      "_model_module_version": "1.5.0",
      "_model_name": "FloatProgressModel",
      "_view_count": null,
      "_view_module": "@jupyter-widgets/controls",
      "_view_module_version": "1.5.0",
      "_view_name": "ProgressView",
      "bar_style": "success",
      "description": "",
      "description_tooltip": null,
      "layout": "IPY_MODEL_df85f692c61648f786853b49d6b343a5",
      "max": 9912422,
      "min": 0,
      "orientation": "horizontal",
      "style": "IPY_MODEL_e8d708cf92eb4cf2a8d00e94fa6655f0",
      "value": 9912422
     }
    },
    "c6b03e85a3e346739e84785fd881ceba": {
     "model_module": "@jupyter-widgets/controls",
     "model_module_version": "1.5.0",
     "model_name": "DescriptionStyleModel",
     "state": {
      "_model_module": "@jupyter-widgets/controls",
      "_model_module_version": "1.5.0",
      "_model_name": "DescriptionStyleModel",
      "_view_count": null,
      "_view_module": "@jupyter-widgets/base",
      "_view_module_version": "1.2.0",
      "_view_name": "StyleView",
      "description_width": ""
     }
    },
    "df85f692c61648f786853b49d6b343a5": {
     "model_module": "@jupyter-widgets/base",
     "model_module_version": "1.2.0",
     "model_name": "LayoutModel",
     "state": {
      "_model_module": "@jupyter-widgets/base",
      "_model_module_version": "1.2.0",
      "_model_name": "LayoutModel",
      "_view_count": null,
      "_view_module": "@jupyter-widgets/base",
      "_view_module_version": "1.2.0",
      "_view_name": "LayoutView",
      "align_content": null,
      "align_items": null,
      "align_self": null,
      "border": null,
      "bottom": null,
      "display": null,
      "flex": null,
      "flex_flow": null,
      "grid_area": null,
      "grid_auto_columns": null,
      "grid_auto_flow": null,
      "grid_auto_rows": null,
      "grid_column": null,
      "grid_gap": null,
      "grid_row": null,
      "grid_template_areas": null,
      "grid_template_columns": null,
      "grid_template_rows": null,
      "height": null,
      "justify_content": null,
      "justify_items": null,
      "left": null,
      "margin": null,
      "max_height": null,
      "max_width": null,
      "min_height": null,
      "min_width": null,
      "object_fit": null,
      "object_position": null,
      "order": null,
      "overflow": null,
      "overflow_x": null,
      "overflow_y": null,
      "padding": null,
      "right": null,
      "top": null,
      "visibility": null,
      "width": null
     }
    },
    "e8d708cf92eb4cf2a8d00e94fa6655f0": {
     "model_module": "@jupyter-widgets/controls",
     "model_module_version": "1.5.0",
     "model_name": "ProgressStyleModel",
     "state": {
      "_model_module": "@jupyter-widgets/controls",
      "_model_module_version": "1.5.0",
      "_model_name": "ProgressStyleModel",
      "_view_count": null,
      "_view_module": "@jupyter-widgets/base",
      "_view_module_version": "1.2.0",
      "_view_name": "StyleView",
      "bar_color": null,
      "description_width": ""
     }
    },
    "fd0a099c69df409d9bce1cd229d6773c": {
     "model_module": "@jupyter-widgets/controls",
     "model_module_version": "1.5.0",
     "model_name": "DescriptionStyleModel",
     "state": {
      "_model_module": "@jupyter-widgets/controls",
      "_model_module_version": "1.5.0",
      "_model_name": "DescriptionStyleModel",
      "_view_count": null,
      "_view_module": "@jupyter-widgets/base",
      "_view_module_version": "1.2.0",
      "_view_name": "StyleView",
      "description_width": ""
     }
    }
   }
  }
 },
 "nbformat": 4,
 "nbformat_minor": 0
}
