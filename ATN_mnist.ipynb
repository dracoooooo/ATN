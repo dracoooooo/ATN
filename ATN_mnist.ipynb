{
 "cells": [
  {
   "cell_type": "code",
   "execution_count": 1,
   "metadata": {},
   "outputs": [],
   "source": [
    "import torch\n",
    "from torchvision import datasets\n",
    "from torchvision.transforms import ToTensor\n",
    "import matplotlib.pyplot as plt\n",
    "import torch.nn as nn\n",
    "from util import Net, r, l"
   ]
  },
  {
   "cell_type": "code",
   "execution_count": 2,
   "metadata": {},
   "outputs": [
    {
     "name": "stdout",
     "output_type": "stream",
     "text": [
      "Using cuda device\n"
     ]
    }
   ],
   "source": [
    "device = 'cuda' if torch.cuda.is_available() else 'cpu'\n",
    "print('Using {} device'.format(device))"
   ]
  },
  {
   "cell_type": "code",
   "execution_count": 3,
   "metadata": {},
   "outputs": [],
   "source": [
    "data_train = datasets.MNIST(root = \"./data/\",\n",
    "                train = True,\n",
    "                transform = ToTensor(),\n",
    "                download = True)\n",
    "\n",
    "data_test = datasets.MNIST(root=\"./data/\",\n",
    "              transform = ToTensor(),\n",
    "              train = False,\n",
    "              download=True)  \n",
    "\n",
    "data_loader_train = torch.utils.data.DataLoader(dataset=data_train,\n",
    "                        batch_size = 64,\n",
    "                        shuffle = True)\n",
    "\n",
    "data_loader_test = torch.utils.data.DataLoader(dataset=data_test,\n",
    "                        batch_size = 64,\n",
    "                        shuffle = True)"
   ]
  },
  {
   "cell_type": "code",
   "execution_count": 4,
   "metadata": {},
   "outputs": [
    {
     "name": "stdout",
     "output_type": "stream",
     "text": [
      "Net(\n",
      "  (cnn): Sequential(\n",
      "    (0): Conv2d(1, 64, kernel_size=(5, 5), stride=(1, 1))\n",
      "    (1): ReLU()\n",
      "    (2): MaxPool2d(kernel_size=2, stride=2, padding=0, dilation=1, ceil_mode=False)\n",
      "    (3): Conv2d(64, 128, kernel_size=(5, 5), stride=(1, 1))\n",
      "    (4): ReLU()\n",
      "    (5): MaxPool2d(kernel_size=2, stride=2, padding=0, dilation=1, ceil_mode=False)\n",
      "  )\n",
      "  (fc): Sequential(\n",
      "    (0): Linear(in_features=2048, out_features=1024, bias=True)\n",
      "    (1): ReLU()\n",
      "    (2): Linear(in_features=1024, out_features=512, bias=True)\n",
      "    (3): ReLU()\n",
      "    (4): Linear(in_features=512, out_features=10, bias=True)\n",
      "  )\n",
      ")\n"
     ]
    }
   ],
   "source": [
    "model_path = './model/mnist_classifier'\n",
    "\n",
    "print(torch.load(model_path))\n",
    "minist_classifier = torch.load(model_path)"
   ]
  },
  {
   "cell_type": "markdown",
   "metadata": {},
   "source": [
    "为了简单只使用了全连接网络。"
   ]
  },
  {
   "cell_type": "code",
   "execution_count": 5,
   "metadata": {},
   "outputs": [],
   "source": [
    "class AAE_ATN(nn.Module):\n",
    "    def __init__(self):\n",
    "        super().__init__()\n",
    "        self.fc = nn.Sequential(\n",
    "            nn.Linear(28 * 28, 2048),\n",
    "            nn.Sigmoid(),\n",
    "            nn.Linear(2048, 2048),\n",
    "            nn.Sigmoid(),\n",
    "            nn.Linear(2048, 28 * 28),\n",
    "            nn.Sigmoid()\n",
    "        )\n",
    "\n",
    "    def forward(self, x):\n",
    "        out = x.view(x.size()[0], -1)\n",
    "        out = self.fc(out)\n",
    "        out = out.view(out.size()[0], 1, 28, 28)\n",
    "        return out\n",
    "        \n",
    "model_AAE = AAE_ATN().to(device)"
   ]
  },
  {
   "cell_type": "code",
   "execution_count": 6,
   "metadata": {},
   "outputs": [],
   "source": [
    "learning_rate = 1e-3\n",
    "optimizer = torch.optim.Adam(model_AAE.parameters(), lr=learning_rate)\n",
    "loss_fn = l\n",
    "target = 5\n",
    "b = 1500"
   ]
  },
  {
   "cell_type": "code",
   "execution_count": 7,
   "metadata": {},
   "outputs": [],
   "source": [
    "def train(dataloader, model, target_model, loss_fn, optimizer):\n",
    "    model.train()\n",
    "    for param in target_model.parameters():\n",
    "        param.requires_grad = False\n",
    "    size = len(dataloader.dataset)\n",
    "    for batch, (X, _) in enumerate(dataloader):\n",
    "        X = X.to(device)\n",
    "        optimizer.zero_grad()\n",
    "        target_model.zero_grad()\n",
    "        generate = model(X)\n",
    "        # generate = torch.clamp(generate, 0, 1)\n",
    "        pred_raw = target_model(X)\n",
    "        pred_generate = target_model(generate) \n",
    "\n",
    "        loss = loss_fn(X, generate, pred_raw, pred_generate, b, target, r)\n",
    "        loss.backward()\n",
    "        optimizer.step()\n",
    "\n",
    "        if batch % 100 == 0:\n",
    "            loss, current = loss.item() / len(X), batch * len(X)\n",
    "            print(f\"loss: {loss:>7f}  [{current:>5d}/{size:>5d}]\")"
   ]
  },
  {
   "cell_type": "code",
   "execution_count": 8,
   "metadata": {},
   "outputs": [
    {
     "name": "stdout",
     "output_type": "stream",
     "text": [
      "Epoch 1\n",
      "-------------------------------\n",
      "loss: 8.481040  [    0/60000]\n",
      "loss: 3.518674  [ 6400/60000]\n",
      "loss: 2.915676  [12800/60000]\n",
      "loss: 2.377934  [19200/60000]\n",
      "loss: 2.332197  [25600/60000]\n",
      "loss: 2.102595  [32000/60000]\n",
      "loss: 1.908708  [38400/60000]\n",
      "loss: 2.036047  [44800/60000]\n",
      "loss: 1.711092  [51200/60000]\n",
      "loss: 1.705279  [57600/60000]\n",
      "Epoch 2\n",
      "-------------------------------\n",
      "loss: 1.679528  [    0/60000]\n",
      "loss: 1.661417  [ 6400/60000]\n",
      "loss: 1.726027  [12800/60000]\n",
      "loss: 1.599786  [19200/60000]\n",
      "loss: 1.480454  [25600/60000]\n",
      "loss: 1.488397  [32000/60000]\n",
      "loss: 1.775383  [38400/60000]\n",
      "loss: 1.626414  [44800/60000]\n",
      "loss: 1.448866  [51200/60000]\n",
      "loss: 1.484417  [57600/60000]\n",
      "Epoch 3\n",
      "-------------------------------\n",
      "loss: 1.465457  [    0/60000]\n",
      "loss: 1.457013  [ 6400/60000]\n",
      "loss: 1.682446  [12800/60000]\n",
      "loss: 1.317512  [19200/60000]\n",
      "loss: 1.421894  [25600/60000]\n",
      "loss: 1.564073  [32000/60000]\n",
      "loss: 1.473627  [38400/60000]\n",
      "loss: 1.593981  [44800/60000]\n",
      "loss: 1.309151  [51200/60000]\n",
      "loss: 1.494015  [57600/60000]\n",
      "Epoch 4\n",
      "-------------------------------\n",
      "loss: 1.305898  [    0/60000]\n",
      "loss: 1.407934  [ 6400/60000]\n",
      "loss: 1.594969  [12800/60000]\n",
      "loss: 1.410348  [19200/60000]\n",
      "loss: 1.281755  [25600/60000]\n",
      "loss: 1.386222  [32000/60000]\n",
      "loss: 1.234494  [38400/60000]\n",
      "loss: 1.506570  [44800/60000]\n",
      "loss: 1.338433  [51200/60000]\n",
      "loss: 1.376488  [57600/60000]\n",
      "Epoch 5\n",
      "-------------------------------\n",
      "loss: 1.352900  [    0/60000]\n",
      "loss: 1.245873  [ 6400/60000]\n",
      "loss: 1.301885  [12800/60000]\n",
      "loss: 1.237043  [19200/60000]\n",
      "loss: 1.300538  [25600/60000]\n",
      "loss: 1.372799  [32000/60000]\n",
      "loss: 1.522532  [38400/60000]\n",
      "loss: 1.472179  [44800/60000]\n",
      "loss: 1.444113  [51200/60000]\n",
      "loss: 1.155500  [57600/60000]\n",
      "Epoch 6\n",
      "-------------------------------\n",
      "loss: 1.525515  [    0/60000]\n",
      "loss: 1.425381  [ 6400/60000]\n",
      "loss: 1.165890  [12800/60000]\n",
      "loss: 1.480998  [19200/60000]\n",
      "loss: 1.444727  [25600/60000]\n",
      "loss: 1.493109  [32000/60000]\n",
      "loss: 1.378443  [38400/60000]\n",
      "loss: 1.290283  [44800/60000]\n",
      "loss: 1.376703  [51200/60000]\n",
      "loss: 1.320700  [57600/60000]\n",
      "Epoch 7\n",
      "-------------------------------\n",
      "loss: 1.341238  [    0/60000]\n",
      "loss: 1.192854  [ 6400/60000]\n",
      "loss: 1.240247  [12800/60000]\n",
      "loss: 1.468706  [19200/60000]\n",
      "loss: 1.300598  [25600/60000]\n",
      "loss: 1.273826  [32000/60000]\n",
      "loss: 1.346774  [38400/60000]\n",
      "loss: 1.246674  [44800/60000]\n",
      "loss: 1.523409  [51200/60000]\n",
      "loss: 1.251106  [57600/60000]\n",
      "Epoch 8\n",
      "-------------------------------\n",
      "loss: 1.209337  [    0/60000]\n",
      "loss: 1.398352  [ 6400/60000]\n",
      "loss: 1.356133  [12800/60000]\n",
      "loss: 1.204015  [19200/60000]\n",
      "loss: 1.470060  [25600/60000]\n",
      "loss: 1.383557  [32000/60000]\n",
      "loss: 1.250358  [38400/60000]\n",
      "loss: 1.511101  [44800/60000]\n",
      "loss: 1.327279  [51200/60000]\n",
      "loss: 1.267845  [57600/60000]\n",
      "Epoch 9\n",
      "-------------------------------\n",
      "loss: 1.278217  [    0/60000]\n",
      "loss: 1.260195  [ 6400/60000]\n",
      "loss: 1.236254  [12800/60000]\n",
      "loss: 1.099413  [19200/60000]\n",
      "loss: 1.278288  [25600/60000]\n",
      "loss: 1.334020  [32000/60000]\n",
      "loss: 1.291766  [38400/60000]\n",
      "loss: 1.283595  [44800/60000]\n",
      "loss: 1.294499  [51200/60000]\n",
      "loss: 1.241525  [57600/60000]\n",
      "Epoch 10\n",
      "-------------------------------\n",
      "loss: 1.412139  [    0/60000]\n",
      "loss: 1.194710  [ 6400/60000]\n",
      "loss: 1.385842  [12800/60000]\n",
      "loss: 1.300147  [19200/60000]\n",
      "loss: 1.205449  [25600/60000]\n",
      "loss: 1.557717  [32000/60000]\n",
      "loss: 1.460196  [38400/60000]\n",
      "loss: 1.116493  [44800/60000]\n",
      "loss: 1.300103  [51200/60000]\n",
      "loss: 1.142079  [57600/60000]\n",
      "Done!\n"
     ]
    }
   ],
   "source": [
    "epochs = 10\n",
    "for t in range(epochs):\n",
    "    print(f\"Epoch {t+1}\\n-------------------------------\")\n",
    "    train(data_loader_train, model_AAE, minist_classifier, loss_fn, optimizer)\n",
    "\n",
    "print(\"Done!\")"
   ]
  },
  {
   "cell_type": "markdown",
   "metadata": {},
   "source": [
    "下图中target设为5，这些图片会被minist_classifier识别为5。\n",
    "可以看出确实可以在原图上做少量修改但minist_classifier会把修改后的图片分类成target。  \n",
    "对输出结果的排序,可以看出有些排序确实会在某种程度上保持原有排序，但这里的效果没有论文中的好，可能是b设的太大了导致排序这里的loss相对来说就比较小。\n",
    "另外这里有一个问题。论文中的b设置为0.001左右，但是这里的b设置为1000左右时会有论文中差不多的效果，b设置为0.001时生成的图片会改变很大。但是loss function应该也没写错，所以很奇怪。"
   ]
  },
  {
   "cell_type": "code",
   "execution_count": 9,
   "metadata": {},
   "outputs": [
    {
     "name": "stdout",
     "output_type": "stream",
     "text": [
      "tensor([[5, 9, 3, 6, 0, 7, 8, 1, 2, 4]], device='cuda:0')\n",
      "tensor([[5, 3, 9, 7, 6, 0, 8, 1, 2, 4]], device='cuda:0')\n",
      "loss: 0.006408644840121269\n",
      "tensor([[2, 7, 1, 8, 3, 6, 4, 9, 0, 5]], device='cuda:0')\n",
      "tensor([[5, 2, 3, 8, 1, 6, 9, 7, 0, 4]], device='cuda:0')\n",
      "loss: 0.018308250233530998\n",
      "tensor([[9, 4, 7, 3, 8, 5, 0, 1, 2, 6]], device='cuda:0')\n",
      "tensor([[5, 9, 4, 7, 3, 8, 0, 6, 1, 2]], device='cuda:0')\n",
      "loss: 0.016720741987228394\n",
      "tensor([[1, 7, 8, 6, 4, 2, 9, 5, 0, 3]], device='cuda:0')\n",
      "tensor([[5, 1, 6, 8, 9, 7, 4, 0, 3, 2]], device='cuda:0')\n",
      "loss: 0.012941333465278149\n",
      "tensor([[0, 6, 9, 8, 5, 2, 7, 4, 1, 3]], device='cuda:0')\n",
      "tensor([[5, 0, 6, 9, 8, 7, 3, 4, 2, 1]], device='cuda:0')\n",
      "loss: 0.014027295634150505\n",
      "tensor([[3, 5, 1, 8, 7, 9, 2, 0, 6, 4]], device='cuda:0')\n",
      "tensor([[5, 3, 9, 7, 1, 8, 0, 2, 6, 4]], device='cuda:0')\n",
      "loss: 0.016938382759690285\n",
      "tensor([[3, 5, 1, 8, 7, 2, 9, 0, 6, 4]], device='cuda:0')\n",
      "tensor([[5, 3, 1, 7, 9, 8, 0, 2, 6, 4]], device='cuda:0')\n",
      "loss: 0.013064573518931866\n",
      "tensor([[8, 5, 7, 3, 2, 9, 6, 1, 0, 4]], device='cuda:0')\n",
      "tensor([[5, 8, 6, 9, 3, 7, 0, 1, 2, 4]], device='cuda:0')\n",
      "loss: 0.024990923702716827\n",
      "tensor([[7, 9, 2, 4, 3, 1, 5, 0, 8, 6]], device='cuda:0')\n",
      "tensor([[5, 7, 9, 3, 0, 2, 1, 8, 4, 6]], device='cuda:0')\n",
      "loss: 0.020596260204911232\n"
     ]
    },
    {
     "name": "stderr",
     "output_type": "stream",
     "text": [
      "C:\\Users\\Draco\\Anaconda3\\lib\\site-packages\\torch\\nn\\modules\\loss.py:528: UserWarning: Using a target size (torch.Size([1, 1, 28, 28])) that is different to the input size (torch.Size([1, 28, 28])). This will likely lead to incorrect results due to broadcasting. Please ensure they have the same size.\n",
      "  return F.mse_loss(input, target, reduction=self.reduction)\n"
     ]
    },
    {
     "data": {
      "image/png": "[encoded data removed]",
      "text/plain": [
       "<Figure size 576x576 with 9 Axes>"
      ]
     },
     "metadata": {
      "needs_background": "light"
     },
     "output_type": "display_data"
    }
   ],
   "source": [
    "loss = nn.MSELoss()\n",
    "figure = plt.figure(figsize=(8, 8))\n",
    "cols, rows = 3, 3\n",
    "for i in range(1, cols * rows + 1):\n",
    "    sample_idx = torch.randint(len(data_train), size=(1,)).item()\n",
    "    img, label = data_train[sample_idx]\n",
    "    figure.add_subplot(rows, cols, i)\n",
    "    plt.axis(\"off\")\n",
    "    plt.imshow(img.squeeze(), cmap=\"gray\")\n",
    "\n",
    "    generate = model_AAE(img.unsqueeze(0).to(device))\n",
    "\n",
    "    pred_raw =  minist_classifier(img.unsqueeze(0).to(device))\n",
    "    pred_generate = minist_classifier(generate)\n",
    "\n",
    "    _, idx_raw = pred_raw.sort(dim=1, descending=True)\n",
    "    _, idx_generate = pred_generate.sort(dim=1, descending=True)\n",
    "    print(idx_raw)\n",
    "    print(idx_generate)\n",
    "    print('loss:', loss(img.to(device), generate).item())\n",
    "\n",
    "    plt.title('label:' + str(label) + ' ' + 'pred:' + str(idx_generate[0][0].item()))\n",
    "\n",
    "    generate = generate.squeeze().cpu().detach().numpy()\n",
    "    plt.imshow(generate, cmap=\"gray\")\n",
    "plt.show()"
   ]
  },
  {
   "cell_type": "code",
   "execution_count": 10,
   "metadata": {},
   "outputs": [
    {
     "name": "stdout",
     "output_type": "stream",
     "text": [
      "attack success rate on training dataset: 0.9578904932932639\n",
      "attack success rate on testing dataset: 0.9316258107068264\n"
     ]
    }
   ],
   "source": [
    "def count_attack_success(data_loader):\n",
    "    success = 0\n",
    "    total = len(data_loader.dataset)\n",
    "    for batch, (X, _) in enumerate(data_loader):\n",
    "        X = X.to(device)\n",
    "        generate = model_AAE(X)\n",
    "        pred_raw = minist_classifier(X)\n",
    "        pred_generate = minist_classifier(generate)\n",
    "        _, idx_raw = pred_raw.sort(dim=1, descending=True)\n",
    "        _, idx_generate = pred_generate.sort(dim=1, descending=True)\n",
    "        success += (idx_generate[:, 0] == target).sum().item()\n",
    "        success -= (idx_raw[:, 0] == target).sum().item()\n",
    "        total -= (idx_raw[:, 0] == target).sum().item()\n",
    "    return success, total\n",
    "\n",
    "attack_success_train, total_train = count_attack_success(data_loader_train)\n",
    "attack_success_test, total_test = count_attack_success(data_loader_test)\n",
    "\n",
    "print('attack success rate on training dataset:', attack_success_train / total_train)\n",
    "print('attack success rate on testing dataset:', attack_success_test / total_test)"
   ]
  }
 ],
 "metadata": {
  "interpreter": {
   "hash": "d94dab1fa283b1010c2c7b30efe073d7d33c17c6ce2041335b519e70fc66e8ef"
  },
  "kernelspec": {
   "display_name": "Python 3.8.5 64-bit ('base': conda)",
   "name": "python3"
  },
  "language_info": {
   "codemirror_mode": {
    "name": "ipython",
    "version": 3
   },
   "file_extension": ".py",
   "mimetype": "text/x-python",
   "name": "python",
   "nbconvert_exporter": "python",
   "pygments_lexer": "ipython3",
   "version": "3.8.5"
  },
  "orig_nbformat": 4
 },
 "nbformat": 4,
 "nbformat_minor": 2
}
